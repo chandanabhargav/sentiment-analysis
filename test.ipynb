{
 "cells": [
  {
   "cell_type": "code",
   "execution_count": null,
   "id": "8dd053fe",
   "metadata": {},
   "outputs": [],
   "source": [
    "from transformers import pipeline\n",
    "import pandas as pd\n",
    "\n",
    "# Load sentiment analysis pipeline\n",
    "classifier = pipeline(\"sentiment-analysis\")\n"
   ]
  },
  {
   "cell_type": "code",
   "execution_count": null,
   "id": "6d90abd8",
   "metadata": {},
   "outputs": [],
   "source": [
    "texts = [\n",
    "    \"I absolutely loved this movie!\",\n",
    "    \"This is terrible. I want my money back.\",\n",
    "    \"Not bad, could be better.\",\n",
    "    \"It's okay, but not my favorite.\",\n",
    "    \"Fantastic performance by the lead actor!\",\n",
    "    \"I hated every minute of it.\"\n",
    "]\n"
   ]
  },
  {
   "cell_type": "code",
   "execution_count": null,
   "id": "e983def5",
   "metadata": {},
   "outputs": [],
   "source": [
    "results = [classifier(text[:512])[0] for text in texts]\n",
    "df_results = pd.DataFrame({\n",
    "    \"text\": texts,\n",
    "    \"label\": [res[\"label\"] for res in results],\n",
    "    \"confidence\": [round(res[\"score\"], 4) for res in results]\n",
    "})\n",
    "df_results\n"
   ]
  },
  {
   "cell_type": "code",
   "execution_count": null,
   "id": "78e68e16",
   "metadata": {},
   "outputs": [],
   "source": [
    "print(\"Summary:\")\n",
    "print(df_results[\"label\"].value_counts())\n"
   ]
  }
 ],
 "metadata": {},
 "nbformat": 4,
 "nbformat_minor": 5
}
